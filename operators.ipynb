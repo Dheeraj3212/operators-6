{
 "cells": [
  {
   "cell_type": "code",
   "execution_count": 1,
   "id": "cecae2fd-aa9c-4936-9a5f-39967dd249db",
   "metadata": {},
   "outputs": [
    {
     "name": "stdin",
     "output_type": "stream",
     "text": [
      "enter your name pwskills\n"
     ]
    },
    {
     "name": "stdout",
     "output_type": "stream",
     "text": [
      "pwskills\n"
     ]
    }
   ],
   "source": [
    "x = input(\"enter your name\")\n",
    "print(x)"
   ]
  },
  {
   "cell_type": "code",
   "execution_count": null,
   "id": "8b42570b-f20b-43e3-aeec-9af8113f4f18",
   "metadata": {},
   "outputs": [
    {
     "name": "stdin",
     "output_type": "stream",
     "text": [
      "enter your age 25\n"
     ]
    },
    {
     "name": "stdout",
     "output_type": "stream",
     "text": [
      "my age is25\n"
     ]
    }
   ],
   "source": [
    "y = input(\"enter your age\")\n",
    "print(\"my age is\" + y)"
   ]
  },
  {
   "cell_type": "code",
   "execution_count": 5,
   "id": "e5a7ed2a-c74b-4ae5-ab96-3db4b79dbf0c",
   "metadata": {},
   "outputs": [
    {
     "name": "stdout",
     "output_type": "stream",
     "text": [
      "40\n"
     ]
    }
   ],
   "source": [
    "x = 10\n",
    "y = 30\n",
    "print(x+y)"
   ]
  },
  {
   "cell_type": "code",
   "execution_count": 12,
   "id": "62e03929-f161-4679-a4bb-9aeb75f5e9be",
   "metadata": {},
   "outputs": [
    {
     "name": "stdin",
     "output_type": "stream",
     "text": [
      "enter your first name dheerj\n",
      "enter your second name goswami\n"
     ]
    },
    {
     "name": "stdout",
     "output_type": "stream",
     "text": [
      "dheerjgoswami\n"
     ]
    }
   ],
   "source": [
    "x = input(\"enter your first name\")\n",
    "y = input(\"enter your second name\")\n",
    "print(x+y)"
   ]
  },
  {
   "cell_type": "code",
   "execution_count": 13,
   "id": "11ca167f-e4d1-49d1-abb6-47d120eae2ae",
   "metadata": {},
   "outputs": [
    {
     "name": "stdin",
     "output_type": "stream",
     "text": [
      "enter your first name sudhanshu\n",
      "enter your second name kumar\n"
     ]
    },
    {
     "name": "stdout",
     "output_type": "stream",
     "text": [
      "sudhanshukumar\n"
     ]
    }
   ],
   "source": [
    "x = input(\"enter your first name\")\n",
    "y = input(\"enter your second name\")\n",
    "print(x+'.'+y)"
   ]
  },
  {
   "cell_type": "code",
   "execution_count": null,
   "id": "92907d83-050d-4f46-99a0-4ee010ef59ee",
   "metadata": {},
   "outputs": [
    {
     "name": "stdin",
     "output_type": "stream",
     "text": [
      "enter first number 23\n",
      "enter second number 24\n"
     ]
    },
    {
     "name": "stdout",
     "output_type": "stream",
     "text": [
      "47\n"
     ]
    }
   ],
   "source": [
    "x = int(input(\"enter first number\"))\n",
    "y = int(input(\"enter second number\"))\n",
    "print(x+y)"
   ]
  },
  {
   "cell_type": "code",
   "execution_count": 18,
   "id": "c06cf2c9-d9c3-46f4-883b-884958b7323e",
   "metadata": {},
   "outputs": [
    {
     "name": "stdout",
     "output_type": "stream",
     "text": [
      "hipwskills\n"
     ]
    }
   ],
   "source": [
    "x = \"hi\"\n",
    "y = \"pwskills\"\n",
    "print(f\"{x}{y}\")"
   ]
  },
  {
   "cell_type": "code",
   "execution_count": 19,
   "id": "e0fe2bc4-27e0-4e62-a101-92010faaa25c",
   "metadata": {},
   "outputs": [
    {
     "name": "stdout",
     "output_type": "stream",
     "text": [
      "hizpwskills\n"
     ]
    }
   ],
   "source": [
    "x = \"hi\"\n",
    "y = \"pwskills\"\n",
    "print(f\"{x}z{y}\")"
   ]
  },
  {
   "cell_type": "code",
   "execution_count": 21,
   "id": "2edb9ef6-a207-4872-ae8c-29f7723b8845",
   "metadata": {},
   "outputs": [
    {
     "name": "stdout",
     "output_type": "stream",
     "text": [
      "dhruv-goswami is a name of the student.\n"
     ]
    }
   ],
   "source": [
    "name1 = \"dhruv\"\n",
    "name2 = \"goswami\"\n",
    "a = \"student\"\n",
    "print(f\"{name1}-{name2} is a name of the {a}.\")"
   ]
  },
  {
   "cell_type": "code",
   "execution_count": 22,
   "id": "ed44db71-4c00-4449-a571-4a466278b9f7",
   "metadata": {},
   "outputs": [
    {
     "name": "stdout",
     "output_type": "stream",
     "text": [
      "pw and skills\n"
     ]
    }
   ],
   "source": [
    "print(\"{} and {}\".format(\"pw\",\"skills\"))"
   ]
  },
  {
   "cell_type": "code",
   "execution_count": 24,
   "id": "b66d3512-10fd-4f87-a1a3-9363f32aea29",
   "metadata": {},
   "outputs": [
    {
     "name": "stdout",
     "output_type": "stream",
     "text": [
      "skills and pw\n"
     ]
    }
   ],
   "source": [
    "print(\"{1} and {0}\".format(\"pw\",\"skills\"))"
   ]
  },
  {
   "cell_type": "code",
   "execution_count": 30,
   "id": "0a1b3e59-b497-4338-b088-1b446d5ab218",
   "metadata": {},
   "outputs": [
    {
     "data": {
      "text/plain": [
       "True"
      ]
     },
     "execution_count": 30,
     "metadata": {},
     "output_type": "execute_result"
    }
   ],
   "source": [
    "a = 10\n",
    "b = 10\n",
    "a==b"
   ]
  },
  {
   "cell_type": "code",
   "execution_count": 31,
   "id": "5ecaa203-9020-4982-9e3e-1a536f3e9bd5",
   "metadata": {},
   "outputs": [
    {
     "data": {
      "text/plain": [
       "True"
      ]
     },
     "execution_count": 31,
     "metadata": {},
     "output_type": "execute_result"
    }
   ],
   "source": [
    "a = 10\n",
    "b = 10\n",
    "a is b"
   ]
  },
  {
   "cell_type": "code",
   "execution_count": 32,
   "id": "4d48a1de-5f59-4b5a-935b-c4a1f7a39860",
   "metadata": {},
   "outputs": [
    {
     "data": {
      "text/plain": [
       "False"
      ]
     },
     "execution_count": 32,
     "metadata": {},
     "output_type": "execute_result"
    }
   ],
   "source": [
    "a = 10\n",
    "b = 20\n",
    "a==b"
   ]
  },
  {
   "cell_type": "code",
   "execution_count": 33,
   "id": "9b6216b9-587f-4dec-bc18-ca37b6a5f4fb",
   "metadata": {},
   "outputs": [
    {
     "name": "stdin",
     "output_type": "stream",
     "text": [
      "enter the string imran\n"
     ]
    },
    {
     "name": "stdout",
     "output_type": "stream",
     "text": [
      "imran\n"
     ]
    }
   ],
   "source": [
    "x = input(\"enter the string\")\n",
    "y = x\n",
    "z = x\n",
    "print(z)"
   ]
  },
  {
   "cell_type": "code",
   "execution_count": 34,
   "id": "b9610915-823a-4bf5-8c9e-6108c613ccdf",
   "metadata": {},
   "outputs": [
    {
     "name": "stdin",
     "output_type": "stream",
     "text": [
      "enter the string imran\n"
     ]
    },
    {
     "name": "stdout",
     "output_type": "stream",
     "text": [
      "!imran!\n"
     ]
    }
   ],
   "source": [
    "x = input(\"enter the string\")\n",
    "y = x\n",
    "z = \"!\"+x+\"!\"\n",
    "print(z)"
   ]
  },
  {
   "cell_type": "code",
   "execution_count": 35,
   "id": "4f1cde85-fdcd-475a-8d21-c89df28eb3d4",
   "metadata": {},
   "outputs": [
    {
     "data": {
      "text/plain": [
       "False"
      ]
     },
     "execution_count": 35,
     "metadata": {},
     "output_type": "execute_result"
    }
   ],
   "source": [
    "id(a)\n",
    "id(b)\n",
    "a is b"
   ]
  },
  {
   "cell_type": "code",
   "execution_count": 36,
   "id": "9ae6ec81-5c8b-44d0-91ba-ee85be9de5a2",
   "metadata": {},
   "outputs": [
    {
     "name": "stdin",
     "output_type": "stream",
     "text": [
      "enter an integer 10\n"
     ]
    },
    {
     "name": "stdout",
     "output_type": "stream",
     "text": [
      "5003154509899971.0\n"
     ]
    }
   ],
   "source": [
    "x = int(input(\"enter an integer\"))\n",
    "y = 3**35/x\n",
    "print(y)"
   ]
  },
  {
   "cell_type": "code",
   "execution_count": 39,
   "id": "4a12b1c2-7412-46ce-8132-b6c41fe91a47",
   "metadata": {},
   "outputs": [
    {
     "name": "stdin",
     "output_type": "stream",
     "text": [
      "enter an integer 10\n"
     ]
    },
    {
     "name": "stdout",
     "output_type": "stream",
     "text": [
      "2.7\n"
     ]
    }
   ],
   "source": [
    "x = int(input(\"enter an integer\"))\n",
    "y = 3**3/x\n",
    "print(y)"
   ]
  },
  {
   "cell_type": "code",
   "execution_count": 40,
   "id": "7c93cc99-2518-4806-8cef-98b742aa3599",
   "metadata": {},
   "outputs": [
    {
     "name": "stdin",
     "output_type": "stream",
     "text": [
      "enter an integer 10\n"
     ]
    },
    {
     "name": "stdout",
     "output_type": "stream",
     "text": [
      "5003154509899970\n"
     ]
    }
   ],
   "source": [
    "x = int(input(\"enter an integer\"))\n",
    "y = 3**35//x\n",
    "print(y)"
   ]
  },
  {
   "cell_type": "code",
   "execution_count": 41,
   "id": "0e777d8d-74d0-4014-873d-5e7e27cd93a2",
   "metadata": {},
   "outputs": [
    {
     "name": "stdin",
     "output_type": "stream",
     "text": [
      "enter an integer 5\n"
     ]
    },
    {
     "name": "stdout",
     "output_type": "stream",
     "text": [
      "2\n"
     ]
    }
   ],
   "source": [
    "x = int(input(\"enter an integer\"))\n",
    "y = x%3\n",
    "print(y)"
   ]
  },
  {
   "cell_type": "code",
   "execution_count": 1,
   "id": "aeef8b36-5bf0-48e8-85c2-58c0c8300bea",
   "metadata": {},
   "outputs": [
    {
     "data": {
      "text/plain": [
       "'0b1010'"
      ]
     },
     "execution_count": 1,
     "metadata": {},
     "output_type": "execute_result"
    }
   ],
   "source": [
    "a = 10\n",
    "b = 4\n",
    "bin(a)"
   ]
  },
  {
   "cell_type": "code",
   "execution_count": 2,
   "id": "3c5a79f1-34fa-448a-bf50-c3b0b8dc6163",
   "metadata": {},
   "outputs": [
    {
     "data": {
      "text/plain": [
       "'0b100'"
      ]
     },
     "execution_count": 2,
     "metadata": {},
     "output_type": "execute_result"
    }
   ],
   "source": [
    "bin(b)"
   ]
  },
  {
   "cell_type": "code",
   "execution_count": 7,
   "id": "b372e8bc-4db5-4d7b-9245-43c8c776f572",
   "metadata": {},
   "outputs": [
    {
     "data": {
      "text/plain": [
       "'0b0'"
      ]
     },
     "execution_count": 7,
     "metadata": {},
     "output_type": "execute_result"
    }
   ],
   "source": [
    "bin(a&b)"
   ]
  },
  {
   "cell_type": "code",
   "execution_count": 5,
   "id": "b12cf998-c05f-442c-a94d-33b89d65485f",
   "metadata": {},
   "outputs": [
    {
     "data": {
      "text/plain": [
       "14"
      ]
     },
     "execution_count": 5,
     "metadata": {},
     "output_type": "execute_result"
    }
   ],
   "source": [
    "a^b"
   ]
  },
  {
   "cell_type": "code",
   "execution_count": 6,
   "id": "6555b921-1320-47a8-a2f6-4d457a53ef7e",
   "metadata": {},
   "outputs": [
    {
     "data": {
      "text/plain": [
       "'0b1110'"
      ]
     },
     "execution_count": 6,
     "metadata": {},
     "output_type": "execute_result"
    }
   ],
   "source": [
    "bin(a^b)"
   ]
  },
  {
   "cell_type": "code",
   "execution_count": 8,
   "id": "9e1a08a2-8bdc-4354-9d51-d7aad1dff084",
   "metadata": {},
   "outputs": [],
   "source": [
    "a = 6"
   ]
  },
  {
   "cell_type": "code",
   "execution_count": 9,
   "id": "c141cba0-d51c-4b73-8a3b-113f30423a4c",
   "metadata": {},
   "outputs": [
    {
     "data": {
      "text/plain": [
       "'0b110'"
      ]
     },
     "execution_count": 9,
     "metadata": {},
     "output_type": "execute_result"
    }
   ],
   "source": [
    "bin(a)"
   ]
  },
  {
   "cell_type": "code",
   "execution_count": 10,
   "id": "9a0a3840-2d67-4e9c-8e02-761fd1d35b26",
   "metadata": {},
   "outputs": [],
   "source": [
    "b = 8"
   ]
  },
  {
   "cell_type": "code",
   "execution_count": 11,
   "id": "ed691c94-1da8-4d5d-8f6c-c24e4420976b",
   "metadata": {},
   "outputs": [
    {
     "data": {
      "text/plain": [
       "'0b1000'"
      ]
     },
     "execution_count": 11,
     "metadata": {},
     "output_type": "execute_result"
    }
   ],
   "source": [
    "bin(b)"
   ]
  },
  {
   "cell_type": "code",
   "execution_count": 12,
   "id": "eed36dd6-8e28-4efc-a3bc-2851be7e36d3",
   "metadata": {},
   "outputs": [
    {
     "data": {
      "text/plain": [
       "'0b1110'"
      ]
     },
     "execution_count": 12,
     "metadata": {},
     "output_type": "execute_result"
    }
   ],
   "source": [
    "bin(a^b)"
   ]
  },
  {
   "cell_type": "code",
   "execution_count": 14,
   "id": "f6a74049-9a95-410f-81c7-6f2499afd653",
   "metadata": {},
   "outputs": [
    {
     "data": {
      "text/plain": [
       "0.75"
      ]
     },
     "execution_count": 14,
     "metadata": {},
     "output_type": "execute_result"
    }
   ],
   "source": [
    "(a/b)"
   ]
  },
  {
   "cell_type": "code",
   "execution_count": 15,
   "id": "dee51f6c-d968-4048-9a2c-93959479482b",
   "metadata": {},
   "outputs": [],
   "source": [
    "a = 8"
   ]
  },
  {
   "cell_type": "code",
   "execution_count": 16,
   "id": "cfe0e15c-36a3-43e1-86df-c0f56ac42275",
   "metadata": {},
   "outputs": [
    {
     "data": {
      "text/plain": [
       "4"
      ]
     },
     "execution_count": 16,
     "metadata": {},
     "output_type": "execute_result"
    }
   ],
   "source": [
    "a>>1"
   ]
  },
  {
   "cell_type": "code",
   "execution_count": 17,
   "id": "3456d379-810b-40f4-9b80-201d50c40d3e",
   "metadata": {},
   "outputs": [
    {
     "data": {
      "text/plain": [
       "16"
      ]
     },
     "execution_count": 17,
     "metadata": {},
     "output_type": "execute_result"
    }
   ],
   "source": [
    "a<<1"
   ]
  },
  {
   "cell_type": "code",
   "execution_count": 18,
   "id": "7f2643e3-14cd-4620-955c-37eda267b827",
   "metadata": {},
   "outputs": [
    {
     "data": {
      "text/plain": [
       "32"
      ]
     },
     "execution_count": 18,
     "metadata": {},
     "output_type": "execute_result"
    }
   ],
   "source": [
    "a<<2"
   ]
  },
  {
   "cell_type": "code",
   "execution_count": 19,
   "id": "c89bf033-4b21-4f56-be8a-13af1c576b24",
   "metadata": {},
   "outputs": [
    {
     "data": {
      "text/plain": [
       "2"
      ]
     },
     "execution_count": 19,
     "metadata": {},
     "output_type": "execute_result"
    }
   ],
   "source": [
    "a>>2"
   ]
  },
  {
   "cell_type": "code",
   "execution_count": 20,
   "id": "ec9b4ff4-d845-4b69-a09d-a938cddcdd0b",
   "metadata": {},
   "outputs": [
    {
     "data": {
      "text/plain": [
       "0"
      ]
     },
     "execution_count": 20,
     "metadata": {},
     "output_type": "execute_result"
    }
   ],
   "source": [
    "a>>4"
   ]
  },
  {
   "cell_type": "code",
   "execution_count": 21,
   "id": "dcc724e0-a92c-4680-8e33-deaccf0c2d64",
   "metadata": {},
   "outputs": [
    {
     "data": {
      "text/plain": [
       "0"
      ]
     },
     "execution_count": 21,
     "metadata": {},
     "output_type": "execute_result"
    }
   ],
   "source": [
    "a>>6"
   ]
  },
  {
   "cell_type": "code",
   "execution_count": 22,
   "id": "7b7a6d0d-4bf8-4a27-a8fb-5b4d49bcec7a",
   "metadata": {},
   "outputs": [],
   "source": [
    "a = 20"
   ]
  },
  {
   "cell_type": "code",
   "execution_count": 23,
   "id": "8e66e95a-215a-4180-a5e4-21bf7a72f38d",
   "metadata": {},
   "outputs": [
    {
     "data": {
      "text/plain": [
       "-21"
      ]
     },
     "execution_count": 23,
     "metadata": {},
     "output_type": "execute_result"
    }
   ],
   "source": [
    "~a"
   ]
  },
  {
   "cell_type": "code",
   "execution_count": 24,
   "id": "021d20a5-51a4-4c68-a701-a01580ea5864",
   "metadata": {},
   "outputs": [],
   "source": [
    "a = -10"
   ]
  },
  {
   "cell_type": "code",
   "execution_count": 25,
   "id": "24af8de2-60b5-49b2-9896-e67d1f0aede0",
   "metadata": {},
   "outputs": [
    {
     "data": {
      "text/plain": [
       "9"
      ]
     },
     "execution_count": 25,
     "metadata": {},
     "output_type": "execute_result"
    }
   ],
   "source": [
    "~a"
   ]
  },
  {
   "cell_type": "code",
   "execution_count": 26,
   "id": "77b301d3-0ce7-4fb0-b73c-e2900a01c7a0",
   "metadata": {},
   "outputs": [
    {
     "data": {
      "text/plain": [
       "False"
      ]
     },
     "execution_count": 26,
     "metadata": {},
     "output_type": "execute_result"
    }
   ],
   "source": [
    "a = 12\n",
    "b = 16\n",
    "((a>10)and(b>20))"
   ]
  },
  {
   "cell_type": "code",
   "execution_count": 28,
   "id": "fd7dca97-abed-4967-a333-c920c6ae8102",
   "metadata": {},
   "outputs": [
    {
     "name": "stdout",
     "output_type": "stream",
     "text": [
      "you can drive\n"
     ]
    }
   ],
   "source": [
    "age = 25\n",
    "if age>=18:\n",
    "    print(\"you can drive\")"
   ]
  },
  {
   "cell_type": "code",
   "execution_count": 31,
   "id": "6fc93bc1-6c6b-4af4-a421-79f707df75be",
   "metadata": {},
   "outputs": [
    {
     "name": "stdout",
     "output_type": "stream",
     "text": [
      "please wait for one year\n"
     ]
    }
   ],
   "source": [
    "age = 17\n",
    "if age>=18:\n",
    "    print(\"you can vote\")\n",
    "elif age<18:\n",
    "    print(\"please wait for one year\")\n",
    "else:\n",
    "    print(\"invalid\")"
   ]
  },
  {
   "cell_type": "code",
   "execution_count": 32,
   "id": "c2153486-1a6c-457a-a168-97cb1aa50fef",
   "metadata": {},
   "outputs": [
    {
     "name": "stdout",
     "output_type": "stream",
     "text": [
      "excellent performance your grade is a\n"
     ]
    }
   ],
   "source": [
    "score = 85\n",
    "if score>=90:\n",
    "    print(\"excellent performance your grade is a+\")\n",
    "elif score>=75:\n",
    "    print(\"excellent performance your grade is a\")\n",
    "elif score>=60:\n",
    "    print(\"excellent performance your grade is b\")\n",
    "elif score>=45:\n",
    "    print(\"excellent performance your grade is c\")\n",
    "else:\n",
    "    print(\"good luck for next time\")"
   ]
  },
  {
   "cell_type": "code",
   "execution_count": 33,
   "id": "5c4cd52d-99d6-494a-8642-ccc402ab1a3d",
   "metadata": {},
   "outputs": [
    {
     "name": "stdout",
     "output_type": "stream",
     "text": [
      "good luck for next time\n"
     ]
    }
   ],
   "source": [
    "score = 42\n",
    "if score>=90:\n",
    "    print(\"excellent performance your grade is a+\")\n",
    "elif score>=75:\n",
    "    print(\"excellent performance your grade is a\")\n",
    "elif score>=60:\n",
    "    print(\"excellent performance your grade is b\")\n",
    "elif score>=45:\n",
    "    print(\"excellent performance your grade is c\")\n",
    "else:\n",
    "    print(\"good luck for next time\")"
   ]
  },
  {
   "cell_type": "code",
   "execution_count": 34,
   "id": "0964482e-3690-489c-a03a-bce115d291fd",
   "metadata": {},
   "outputs": [
    {
     "name": "stdin",
     "output_type": "stream",
     "text": [
      "please enter the time 6\n"
     ]
    },
    {
     "name": "stdout",
     "output_type": "stream",
     "text": [
      "morning\n"
     ]
    }
   ],
   "source": [
    "time = int(input(\"please enter the time\"))\n",
    "if time<0:\n",
    "    print(\"invalid\")\n",
    "elif 0<=time<=5:\n",
    "    print(\"night\")\n",
    "elif 6<=time<=11:\n",
    "    print(\"morning\")\n",
    "elif 12<=time<=17:\n",
    "    print(\"afternoon\")\n",
    "elif 18<=time<=23:\n",
    "    print(\"evening\")\n",
    "else:\n",
    "    print(\"invalid\")"
   ]
  },
  {
   "cell_type": "code",
   "execution_count": 1,
   "id": "f361327e-c4ef-4117-98b7-42f2f7ce5c17",
   "metadata": {},
   "outputs": [
    {
     "name": "stdout",
     "output_type": "stream",
     "text": [
      "largest number is 27\n"
     ]
    }
   ],
   "source": [
    "num1 = 19\n",
    "num2 = 27\n",
    "num3 = 23\n",
    "if (num1>=num2) and (num1>=num3):\n",
    "    largest = num1\n",
    "    print(\"larggest number is\",largest)\n",
    "elif (num2>=num1) and (num2>=num3):\n",
    "    largest = num2\n",
    "    print(\"largest number is\",largest)\n",
    "else:\n",
    "    lragest = num3\n",
    "    print(\"largest number is\",largest)"
   ]
  },
  {
   "cell_type": "code",
   "execution_count": 1,
   "id": "713cccff-9d56-479b-aaa1-9bf98f5fe7f5",
   "metadata": {},
   "outputs": [
    {
     "name": "stdin",
     "output_type": "stream",
     "text": [
      "enter first number: 6\n",
      "enter operator(+,-,*,/,%): +\n",
      "enter second number 8\n"
     ]
    },
    {
     "name": "stdout",
     "output_type": "stream",
     "text": [
      "14\n"
     ]
    }
   ],
   "source": [
    "first = input(\"enter first number:\")\n",
    "operator = input(\"enter operator(+,-,*,/,%):\")\n",
    "second = input(\"enter second number\")\n",
    "\n",
    "first = int(first)\n",
    "second = int(second)\n",
    "\n",
    "if operator == \"+\":\n",
    "    print(first+second)\n",
    "elif operator == \"-\":\n",
    "    print(first-second)\n",
    "elif operator == \"*\":\n",
    "    print(first*second)\n",
    "elif operator == \"/\":\n",
    "    print(first/second)\n",
    "elif operator == \"%\":\n",
    "    print(first%second)\n",
    "else:\n",
    "    print(\"invalid operator\")"
   ]
  },
  {
   "cell_type": "code",
   "execution_count": 3,
   "id": "ac99bf62-8f96-4e89-99ec-b1abe45f0bf5",
   "metadata": {},
   "outputs": [
    {
     "name": "stdin",
     "output_type": "stream",
     "text": [
      "enter first number: 10\n",
      "enter operator(+,-,*,/,%): *\n",
      "enter second number 12\n"
     ]
    },
    {
     "name": "stdout",
     "output_type": "stream",
     "text": [
      "120\n"
     ]
    }
   ],
   "source": [
    "first = input(\"enter first number:\")\n",
    "operator = input(\"enter operator(+,-,*,/,%):\")\n",
    "second = input(\"enter second number\")\n",
    "\n",
    "first = int(first)\n",
    "second = int(second)\n",
    "\n",
    "if operator == \"+\":\n",
    "    print(first+second)\n",
    "elif operator == \"-\":\n",
    "    print(first-second)\n",
    "elif operator == \"*\":\n",
    "    print(first*second)\n",
    "elif operator == \"/\":\n",
    "    print(first/second)\n",
    "elif operator == \"%\":\n",
    "    print(first%second)\n",
    "else:\n",
    "    print(\"invalid operator\")"
   ]
  },
  {
   "cell_type": "code",
   "execution_count": 6,
   "id": "46547a77-d3a9-4f8d-844e-fd2653d5c3b4",
   "metadata": {},
   "outputs": [
    {
     "name": "stdout",
     "output_type": "stream",
     "text": [
      "number is negative\n"
     ]
    }
   ],
   "source": [
    "num = 10\n",
    "if(num>=0):\n",
    "    if num == 0:\n",
    "        print(\"number is zero\")\n",
    "    else:\n",
    "        print(\"number is negative\")\n",
    "else:\n",
    "    prin"
   ]
  },
  {
   "cell_type": "code",
   "execution_count": 16,
   "id": "c5db32fa-a432-4155-ac4a-a88790818c9a",
   "metadata": {},
   "outputs": [
    {
     "name": "stdout",
     "output_type": "stream",
     "text": [
      "number is zero\n"
     ]
    }
   ],
   "source": [
    "num = 0\n",
    "if(num>=0):\n",
    "    if num == 0:\n",
    "        print(\"number is zero\")\n",
    "    else:\n",
    "        print(\"number is positive\")\n",
    "else:\n",
    "    print(\"number is negative\")"
   ]
  },
  {
   "cell_type": "code",
   "execution_count": 9,
   "id": "05a48e5f-ac42-4ce3-8921-050a7c33627f",
   "metadata": {},
   "outputs": [
    {
     "data": {
      "text/plain": [
       "[0, 1, 2, 3, 4]"
      ]
     },
     "execution_count": 9,
     "metadata": {},
     "output_type": "execute_result"
    }
   ],
   "source": [
    "range(5)\n",
    "list(range(5))"
   ]
  },
  {
   "cell_type": "code",
   "execution_count": 10,
   "id": "62f731b4-3d66-4756-ac8b-66edf693c12a",
   "metadata": {},
   "outputs": [
    {
     "data": {
      "text/plain": [
       "[2, 4, 6, 8, 10, 12]"
      ]
     },
     "execution_count": 10,
     "metadata": {},
     "output_type": "execute_result"
    }
   ],
   "source": [
    "list(range(2,13,2))"
   ]
  },
  {
   "cell_type": "code",
   "execution_count": 12,
   "id": "2d44ab66-b7e1-4fd9-b9c3-9c75ff17ed36",
   "metadata": {},
   "outputs": [
    {
     "name": "stdout",
     "output_type": "stream",
     "text": [
      "0\n",
      "1\n",
      "2\n",
      "3\n",
      "4\n",
      "5\n",
      "6\n",
      "7\n"
     ]
    }
   ],
   "source": [
    "for i in range(8):\n",
    "    print(i)"
   ]
  },
  {
   "cell_type": "code",
   "execution_count": 14,
   "id": "c11b0dfe-ac1f-4b34-a4a3-222766da8bf2",
   "metadata": {},
   "outputs": [
    {
     "name": "stdout",
     "output_type": "stream",
     "text": [
      "imran\n",
      "banglore\n"
     ]
    }
   ],
   "source": [
    "x = {\"name\":\"imran\",\"city\":\"banglore\"}\n",
    "for i in x.values():\n",
    "    print(i)"
   ]
  },
  {
   "cell_type": "code",
   "execution_count": 1,
   "id": "b3a7e4ae-5a67-4337-8820-2acf88e78c2e",
   "metadata": {},
   "outputs": [
    {
     "name": "stdout",
     "output_type": "stream",
     "text": [
      "india\n",
      "uk\n",
      "germany\n"
     ]
    }
   ],
   "source": [
    "country = [\"india\",\"uk\",\"germany\"]\n",
    "for ct in country:\n",
    "    print(ct)"
   ]
  },
  {
   "cell_type": "code",
   "execution_count": 2,
   "id": "689841b6-18ad-411b-a6dc-d5eacd156bdf",
   "metadata": {},
   "outputs": [
    {
     "name": "stdout",
     "output_type": "stream",
     "text": [
      "india\n",
      "uk\n",
      "germany\n"
     ]
    }
   ],
   "source": [
    "country = [\"india\",\"uk\",\"germany\"]\n",
    "for index in range(len(country)):\n",
    "    print(country[index])"
   ]
  },
  {
   "cell_type": "code",
   "execution_count": 7,
   "id": "73078b1b-d448-4e18-a83b-798b430a6c13",
   "metadata": {},
   "outputs": [
    {
     "name": "stdout",
     "output_type": "stream",
     "text": [
      "0&1&2&3&4&5&6&7&8&9&"
     ]
    }
   ],
   "source": [
    "for i in range(10):\n",
    "    print(i,end='&')"
   ]
  },
  {
   "cell_type": "code",
   "execution_count": 11,
   "id": "23d2435e-ead0-479b-b7a5-3f2e82a5e8e8",
   "metadata": {},
   "outputs": [
    {
     "name": "stdout",
     "output_type": "stream",
     "text": [
      "1 2 3 4 5 \n",
      "2 4 6 8 10 \n",
      "3 6 9 12 15 \n",
      "4 8 12 16 20 \n",
      "5 10 15 20 25 \n"
     ]
    }
   ],
   "source": [
    "for i in range(1,6):\n",
    "    for j in range(1,6):\n",
    "        print(i*j,end=' ')\n",
    "    print()\n"
   ]
  },
  {
   "cell_type": "code",
   "execution_count": 12,
   "id": "073e8ee3-0788-4e37-aba5-3b785cbd5a43",
   "metadata": {},
   "outputs": [
    {
     "name": "stdout",
     "output_type": "stream",
     "text": [
      "1\n",
      "2\n",
      "3\n",
      "4\n",
      "5\n"
     ]
    }
   ],
   "source": [
    "count = 1\n",
    "while count<=5:\n",
    "    print(count)\n",
    "    count+=1"
   ]
  },
  {
   "cell_type": "code",
   "execution_count": 15,
   "id": "c22d4a99-9967-4bd1-ac16-ab032fda6438",
   "metadata": {},
   "outputs": [
    {
     "name": "stdout",
     "output_type": "stream",
     "text": [
      "* \n",
      "* * \n",
      "* * * \n",
      "* * * * \n",
      "* * * * * \n",
      "* * * * * * \n",
      "* * * * * * * \n",
      "* * * * * * * * \n"
     ]
    }
   ],
   "source": [
    "for i in range(8):\n",
    "    for j in range(i+1):\n",
    "        print(\"*\",end=' ')\n",
    "    print()"
   ]
  },
  {
   "cell_type": "code",
   "execution_count": 16,
   "id": "6f8e8085-93f1-43ed-9eb0-8b941ef5930e",
   "metadata": {},
   "outputs": [
    {
     "name": "stdout",
     "output_type": "stream",
     "text": [
      "i i i i i "
     ]
    }
   ],
   "source": [
    "for i in range(5):\n",
    "    print('i',end=' ')"
   ]
  },
  {
   "cell_type": "code",
   "execution_count": 18,
   "id": "8aaa05cb-2a62-45a3-9e30-2cc0dede4042",
   "metadata": {},
   "outputs": [
    {
     "name": "stdout",
     "output_type": "stream",
     "text": [
      "* * * * * \n",
      "* * * * \n",
      "* * * \n",
      "* * \n",
      "* \n"
     ]
    }
   ],
   "source": [
    "for i in range(5,0,-1):\n",
    "    for j in range(i,0,-1):\n",
    "        print(\"*\",end=' ')\n",
    "    print()"
   ]
  },
  {
   "cell_type": "code",
   "execution_count": 21,
   "id": "47e3b52a-7c7c-4750-a29f-493dbfc862ed",
   "metadata": {},
   "outputs": [],
   "source": [
    "x = {\"name\":\"dhruv\",\"state\":\"uttarakhand\"}"
   ]
  },
  {
   "cell_type": "code",
   "execution_count": 22,
   "id": "7bfe27c7-abfc-4c9c-9d18-9a19242a8018",
   "metadata": {},
   "outputs": [
    {
     "data": {
      "text/plain": [
       "{'name': 'dhruv', 'state': 'uttarakhand'}"
      ]
     },
     "execution_count": 22,
     "metadata": {},
     "output_type": "execute_result"
    }
   ],
   "source": [
    "x"
   ]
  },
  {
   "cell_type": "code",
   "execution_count": 25,
   "id": "dcc283f8-c26f-4ca7-aabe-3248fe30de70",
   "metadata": {},
   "outputs": [
    {
     "name": "stdout",
     "output_type": "stream",
     "text": [
      "dhruv\n",
      "uttarakhand\n"
     ]
    }
   ],
   "source": [
    "x = {\"name\":\"dhruv\",\"state\":\"uttarakhand\"}\n",
    "for i in x.values():\n",
    "    print(i)"
   ]
  },
  {
   "cell_type": "code",
   "execution_count": 26,
   "id": "7e7838c3-22a0-45e7-b779-29e4b5eb118d",
   "metadata": {},
   "outputs": [
    {
     "name": "stdout",
     "output_type": "stream",
     "text": [
      "name dhruv\n",
      "state uttarakhand\n"
     ]
    }
   ],
   "source": [
    "x = {\"name\":\"dhruv\",\"state\":\"uttarakhand\"}\n",
    "x.keys()\n",
    "x_keys=([\"name\",\"dhruv\"])\n",
    "x.values()\n",
    "x_values=([\"dhruv\",\"uttarkhand\"])\n",
    "for key in x:\n",
    "    print(key,x[key])"
   ]
  },
  {
   "cell_type": "code",
   "execution_count": 27,
   "id": "bcc97fd1-3b6a-4584-ab67-6a6e2a22ab82",
   "metadata": {},
   "outputs": [
    {
     "name": "stdin",
     "output_type": "stream",
     "text": [
      "enter a word pw\n"
     ]
    },
    {
     "name": "stdout",
     "output_type": "stream",
     "text": [
      "you entered pw\n"
     ]
    },
    {
     "name": "stdin",
     "output_type": "stream",
     "text": [
      "enter a word skills\n"
     ]
    },
    {
     "name": "stdout",
     "output_type": "stream",
     "text": [
      "you entered skills\n"
     ]
    },
    {
     "name": "stdin",
     "output_type": "stream",
     "text": [
      "enter a word dhruv\n"
     ]
    },
    {
     "name": "stdout",
     "output_type": "stream",
     "text": [
      "you entered dhruv\n"
     ]
    },
    {
     "name": "stdin",
     "output_type": "stream",
     "text": [
      "enter a word goswami\n"
     ]
    },
    {
     "name": "stdout",
     "output_type": "stream",
     "text": [
      "you entered goswami\n"
     ]
    },
    {
     "name": "stdin",
     "output_type": "stream",
     "text": [
      "enter a word quit\n"
     ]
    },
    {
     "name": "stdout",
     "output_type": "stream",
     "text": [
      "you entered quit\n"
     ]
    }
   ],
   "source": [
    "text = \" \"\n",
    "while text!=\"quit\":\n",
    "    text=input(\"enter a word\")\n",
    "    print(\"you entered\",text)"
   ]
  },
  {
   "cell_type": "code",
   "execution_count": null,
   "id": "e9dbb0c7-452f-43b9-9b3b-998cd01a25c1",
   "metadata": {},
   "outputs": [],
   "source": []
  }
 ],
 "metadata": {
  "kernelspec": {
   "display_name": "Python 3 (ipykernel)",
   "language": "python",
   "name": "python3"
  },
  "language_info": {
   "codemirror_mode": {
    "name": "ipython",
    "version": 3
   },
   "file_extension": ".py",
   "mimetype": "text/x-python",
   "name": "python",
   "nbconvert_exporter": "python",
   "pygments_lexer": "ipython3",
   "version": "3.10.8"
  }
 },
 "nbformat": 4,
 "nbformat_minor": 5
}
